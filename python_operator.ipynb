{
 "cells": [
  {
   "cell_type": "code",
   "execution_count": 1,
   "id": "331861da-463d-4ddf-bfbc-27f479fd10fe",
   "metadata": {},
   "outputs": [],
   "source": [
    "# QuesNo.- 1 Calculate the sum, difference, product, and quotient of two numbers."
   ]
  },
  {
   "cell_type": "code",
   "execution_count": 2,
   "id": "c83110e3-6b58-4860-8b96-f3e0ba472130",
   "metadata": {},
   "outputs": [
    {
     "name": "stdout",
     "output_type": "stream",
     "text": [
      "Sum: 15\n",
      "Difference: 5\n",
      "Product: 50\n",
      "Quotient: 2.0\n"
     ]
    }
   ],
   "source": [
    "a = 10\n",
    "b = 5\n",
    "\n",
    "# Sum\n",
    "sum_result = a + b\n",
    "\n",
    "# Difference\n",
    "difference_result = a - b\n",
    "\n",
    "# Product\n",
    "product_result = a * b\n",
    "\n",
    "# Quotient (assuming division is not by zero)\n",
    "quotient_result = a / b\n",
    "\n",
    "print(\"Sum:\", sum_result)\n",
    "print(\"Difference:\", difference_result)\n",
    "print(\"Product:\", product_result)\n",
    "print(\"Quotient:\", quotient_result)\n"
   ]
  },
  {
   "cell_type": "code",
   "execution_count": 3,
   "id": "f5dc699c-ebe4-4093-a57d-a38b1a29fbdd",
   "metadata": {},
   "outputs": [],
   "source": [
    "# In this example, a and b are two numbers. We calculate their sum, difference, product, and quotient and print out the results. Adjust the values of a and b as needed."
   ]
  },
  {
   "cell_type": "code",
   "execution_count": 4,
   "id": "dbdb9cd6-a462-4a0f-a62e-395ead39021d",
   "metadata": {},
   "outputs": [],
   "source": [
    "# Ques No. - 02 Perform various assignment operations on a variable."
   ]
  },
  {
   "cell_type": "code",
   "execution_count": 5,
   "id": "7368babe-65d7-43be-955b-3a2fdac07c11",
   "metadata": {},
   "outputs": [
    {
     "name": "stdout",
     "output_type": "stream",
     "text": [
      "Final value of x: 0.0\n"
     ]
    }
   ],
   "source": [
    "# Initialize a variable\n",
    "x = 5\n",
    "\n",
    "# Addition assignment\n",
    "x += 3  # Equivalent to: x = x + 3\n",
    "\n",
    "# Subtraction assignment\n",
    "x -= 2  # Equivalent to: x = x - 2\n",
    "\n",
    "# Multiplication assignment\n",
    "x *= 4  # Equivalent to: x = x * 4\n",
    "\n",
    "# Division assignment\n",
    "x /= 2  # Equivalent to: x = x / 2\n",
    "\n",
    "# Exponentiation assignment\n",
    "x **= 2  # Equivalent to: x = x ** 2\n",
    "\n",
    "# Modulus assignment\n",
    "x %= 3  # Equivalent to: x = x % 3\n",
    "\n",
    "# Floor division assignment\n",
    "x //= 2  # Equivalent to: x = x // 2\n",
    "\n",
    "print(\"Final value of x:\", x)"
   ]
  },
  {
   "cell_type": "code",
   "execution_count": 7,
   "id": "ad82f986-bcaf-4e6f-993d-712bae8c8f3a",
   "metadata": {},
   "outputs": [],
   "source": [
    "# In this example, x is a variable initialized with the value 5. We then perform various assignment operations on x, such as addition, subtraction, multiplication, division, exponentiation, modulus, and floor division. Finally, we print the final value of x."
   ]
  },
  {
   "cell_type": "code",
   "execution_count": 8,
   "id": "2753c431-b2d0-4784-84a8-250ab227b38f",
   "metadata": {},
   "outputs": [],
   "source": [
    "# Ques No. 03 Compare two numbers and print the results."
   ]
  },
  {
   "cell_type": "code",
   "execution_count": 9,
   "id": "f4089619-6891-46e5-8951-4a2a481eccb4",
   "metadata": {},
   "outputs": [
    {
     "name": "stdout",
     "output_type": "stream",
     "text": [
      "10 is greater than 5\n"
     ]
    }
   ],
   "source": [
    "# Define the two numbers\n",
    "number1 = 10\n",
    "number2 = 5\n",
    "\n",
    "# Compare the two numbers\n",
    "if number1 > number2:\n",
    "    print(f\"{number1} is greater than {number2}\")\n",
    "elif number1 < number2:\n",
    "    print(f\"{number1} is less than {number2}\")\n",
    "else:\n",
    "    print(f\"{number1} is equal to {number2}\")"
   ]
  },
  {
   "cell_type": "code",
   "execution_count": 10,
   "id": "edbf9c62-6b05-4dd8-bb5e-501a24efd7c2",
   "metadata": {},
   "outputs": [],
   "source": [
    "# In this example, number1 and number2 are defined with values 10 and 5 respectively. Then, we compare them using the > (greater than), < (less than), and == (equal to) operators. Depending on the comparison result, the appropriate message is printed. Adjust the values of number1 and number2 as needed."
   ]
  },
  {
   "cell_type": "code",
   "execution_count": 11,
   "id": "fb6e3356-40a8-4d75-9b3b-00932a619185",
   "metadata": {},
   "outputs": [],
   "source": [
    "# Ques No.- 04 Check conditions using logical operators."
   ]
  },
  {
   "cell_type": "code",
   "execution_count": 12,
   "id": "5c8fc640-f971-43c9-a121-d49598e7f212",
   "metadata": {},
   "outputs": [
    {
     "name": "stdout",
     "output_type": "stream",
     "text": [
      "Both conditions are true: x < y < z\n",
      "The condition is false: x is not greater than y\n"
     ]
    }
   ],
   "source": [
    "# Define variables\n",
    "x = 5\n",
    "y = 10\n",
    "z = 15\n",
    "\n",
    "# Check conditions using logical operators\n",
    "if x < y and y < z:\n",
    "    print(\"Both conditions are true: x < y < z\")\n",
    "\n",
    "if x == y or y == z:\n",
    "    print(\"At least one condition is true: x is equal to y or y is equal to z\")\n",
    "\n",
    "if not(x > y):\n",
    "    print(\"The condition is false: x is not greater than y\")\n"
   ]
  },
  {
   "cell_type": "code",
   "execution_count": 14,
   "id": "5c12d425-38b2-42cb-9183-cdf8adef144b",
   "metadata": {},
   "outputs": [],
   "source": [
    "# The first if statement checks if x is less than y and y is less than z.\n",
    "# The second if statement checks if either x is equal to y or y is equal to z.\n",
    "# The third if statement uses the not operator to check if x is not greater than y.\n",
    "# You can adjust the values of x, y, and z to see how the conditions change the output."
   ]
  },
  {
   "cell_type": "code",
   "execution_count": 15,
   "id": "b497539b-7ca2-4e25-9a6e-85e728a8ebcd",
   "metadata": {},
   "outputs": [],
   "source": [
    "# Ques No. - 05 Check the identity of variables."
   ]
  },
  {
   "cell_type": "code",
   "execution_count": 16,
   "id": "18a1f6be-522a-4bfc-8d35-a991845e4582",
   "metadata": {},
   "outputs": [
    {
     "name": "stdout",
     "output_type": "stream",
     "text": [
      "x is y: False\n",
      "x is z: True\n"
     ]
    }
   ],
   "source": [
    "x = [1, 2, 3]\n",
    "y = [1, 2, 3]\n",
    "z = x\n",
    "\n",
    "# Check identity using the is operator\n",
    "print(\"x is y:\", x is y)  # False because x and y are different objects with the same value\n",
    "print(\"x is z:\", x is z)  # True because z is assigned to the same object as x\n"
   ]
  },
  {
   "cell_type": "code",
   "execution_count": 17,
   "id": "14a79450-f774-4735-a084-af736818a8d5",
   "metadata": {},
   "outputs": [],
   "source": [
    "# Ques No. - 06 Perform bitwise operations on any two integers."
   ]
  },
  {
   "cell_type": "code",
   "execution_count": 18,
   "id": "81b593b9-9d97-4fb7-a1e5-477a8838c61f",
   "metadata": {},
   "outputs": [
    {
     "name": "stdout",
     "output_type": "stream",
     "text": [
      "Bitwise AND: 2\n",
      "Bitwise OR: 14\n",
      "Bitwise XOR: 12\n",
      "Bitwise NOT of a: -11\n",
      "Left shift of a: 20\n",
      "Right shift of a: 5\n"
     ]
    }
   ],
   "source": [
    "# Define two integers\n",
    "a = 10   # Binary: 1010\n",
    "b = 6    # Binary: 0110\n",
    "\n",
    "# Perform bitwise AND\n",
    "bitwise_and = a & b   # 1010 & 0110 = 0010 (decimal 2)\n",
    "\n",
    "# Perform bitwise OR\n",
    "bitwise_or = a | b    # 1010 | 0110 = 1110 (decimal 14)\n",
    "\n",
    "# Perform bitwise XOR\n",
    "bitwise_xor = a ^ b   # 1010 ^ 0110 = 1100 (decimal 12)\n",
    "\n",
    "# Perform bitwise NOT\n",
    "bitwise_not_a = ~a    # ~1010 = 0101 (decimal -11)\n",
    "\n",
    "# Perform left shift\n",
    "left_shift_a = a << 1 # 1010 << 1 = 10100 (decimal 20)\n",
    "\n",
    "# Perform right shift\n",
    "right_shift_a = a >> 1# 1010 >> 1 = 0101 (decimal 5)\n",
    "\n",
    "# Print the results\n",
    "print(\"Bitwise AND:\", bitwise_and)\n",
    "print(\"Bitwise OR:\", bitwise_or)\n",
    "print(\"Bitwise XOR:\", bitwise_xor)\n",
    "print(\"Bitwise NOT of a:\", bitwise_not_a)\n",
    "print(\"Left shift of a:\", left_shift_a)\n",
    "print(\"Right shift of a:\", right_shift_a)"
   ]
  },
  {
   "cell_type": "code",
   "execution_count": 19,
   "id": "352629a5-2864-414b-b97a-bc8f3f374415",
   "metadata": {},
   "outputs": [],
   "source": [
    "# a is 10 (binary 1010) and b is 6 (binary 0110).\n",
    "# Bitwise AND of a and b results in 2 (binary 0010).\n",
    "# Bitwise OR of a and b results in 14 (binary 1110).\n",
    "# Bitwise XOR of a and b results in 12 (binary 1100).\n",
    "# Bitwise NOT of a results in -11 (binary 11111111111111111111111111110101 in 32-bit two's complement representation).\n",
    "# Left shifting a by 1 bit results in 20 (binary 10100).\n",
    "# Right shifting a by 1 bit results in 5 (binary 0101)."
   ]
  },
  {
   "cell_type": "code",
   "execution_count": 20,
   "id": "c5648f92-7c1d-4b54-ae55-c5a563ec6348",
   "metadata": {},
   "outputs": [],
   "source": [
    "# Ques No. - 07 Use binary operators to change the sign of a number."
   ]
  },
  {
   "cell_type": "code",
   "execution_count": 21,
   "id": "53b8ce29-b059-488a-8b74-bcba5e37ddf6",
   "metadata": {},
   "outputs": [
    {
     "name": "stdout",
     "output_type": "stream",
     "text": [
      "Original number: 10\n",
      "Number with changed sign: -10\n"
     ]
    }
   ],
   "source": [
    "number = 10\n",
    "negative_number = -number\n",
    "\n",
    "print(\"Original number:\", number)\n",
    "print(\"Number with changed sign:\", negative_number)"
   ]
  },
  {
   "cell_type": "code",
   "execution_count": 22,
   "id": "3d22f333-3cad-47b1-9094-94a0b1f322b4",
   "metadata": {},
   "outputs": [],
   "source": [
    "# In this example, number is assigned the value 10. Then, the unary operator - is used to change the sign of number, and the result is stored in negative_number. The output would be:"
   ]
  },
  {
   "cell_type": "code",
   "execution_count": 23,
   "id": "576fee5d-d413-4e85-82f9-13423d42156a",
   "metadata": {},
   "outputs": [],
   "source": [
    "# Ques No.- 08 Use the ternary operator to assign values based on conditions."
   ]
  },
  {
   "cell_type": "code",
   "execution_count": 24,
   "id": "0f976197-1c8e-40cf-a3ff-f2417f2425cf",
   "metadata": {},
   "outputs": [
    {
     "name": "stdout",
     "output_type": "stream",
     "text": [
      "x is greater than y\n"
     ]
    }
   ],
   "source": [
    "# Define a condition\n",
    "x = 10\n",
    "y = 5\n",
    "\n",
    "# Assign values based on the condition using the ternary operator\n",
    "result = \"x is greater than y\" if x > y else \"x is less than or equal to y\"\n",
    "\n",
    "print(result)"
   ]
  },
  {
   "cell_type": "code",
   "execution_count": null,
   "id": "7e80b0a1-9c7c-4404-aac0-ea81d391c225",
   "metadata": {},
   "outputs": [],
   "source": [
    "# In this example, if x is greater than y, the value \"x is greater than y\" is assigned to result. Otherwise, the value \"x is less than or equal to y\" is assigned to result"
   ]
  }
 ],
 "metadata": {
  "kernelspec": {
   "display_name": "Python 3 (ipykernel)",
   "language": "python",
   "name": "python3"
  },
  "language_info": {
   "codemirror_mode": {
    "name": "ipython",
    "version": 3
   },
   "file_extension": ".py",
   "mimetype": "text/x-python",
   "name": "python",
   "nbconvert_exporter": "python",
   "pygments_lexer": "ipython3",
   "version": "3.10.8"
  }
 },
 "nbformat": 4,
 "nbformat_minor": 5
}
